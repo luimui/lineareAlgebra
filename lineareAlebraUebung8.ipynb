{
 "cells": [
  {
   "cell_type": "code",
   "execution_count": 34,
   "id": "1cce7847-273e-4ccf-9be1-cdb5b7892f69",
   "metadata": {},
   "outputs": [],
   "source": [
    "import numpy as np\n",
    "from numpy.linalg import inv\n",
    "from sympy import Matrix\n",
    "import sympy\n",
    "from scipy import linalg"
   ]
  },
  {
   "cell_type": "code",
   "execution_count": 30,
   "id": "fdce6792-c627-472b-85a4-5516e5886d03",
   "metadata": {},
   "outputs": [
    {
     "data": {
      "text/latex": [
       "$\\displaystyle \\left[\\begin{matrix}1 & 1 & 2 & 0 & 1\\\\1 & 0 & -1 & 0 & 2\\\\0 & 1 & 1 & 1 & 1\\\\3 & 0 & 1 & -2 & 2\\end{matrix}\\right]$"
      ],
      "text/plain": [
       "Matrix([\n",
       "[1, 1,  2,  0, 1],\n",
       "[1, 0, -1,  0, 2],\n",
       "[0, 1,  1,  1, 1],\n",
       "[3, 0,  1, -2, 2]])"
      ]
     },
     "execution_count": 30,
     "metadata": {},
     "output_type": "execute_result"
    }
   ],
   "source": [
    "Af=Matrix([ [1, 1,  2,  0, 1],\n",
    "            [1, 0, -1,  0, 2],\n",
    "            [0, 1,  1,  1, 1],\n",
    "            [3, 0,  1, -2, 2]\n",
    "            ])\n",
    "Af\n"
   ]
  },
  {
   "cell_type": "code",
   "execution_count": 26,
   "id": "24d925fa-988e-4981-a608-9f50d73d7b0f",
   "metadata": {},
   "outputs": [
    {
     "data": {
      "text/latex": [
       "$\\displaystyle \\left[\\begin{matrix}1 & 0 & 0 & - \\frac{1}{2} & 1\\\\0 & 1 & 0 & \\frac{3}{2} & 2\\\\0 & 0 & 1 & - \\frac{1}{2} & -1\\\\0 & 0 & 0 & 0 & 0\\end{matrix}\\right]$"
      ],
      "text/plain": [
       "Matrix([\n",
       "[1, 0, 0, -1/2,  1],\n",
       "[0, 1, 0,  3/2,  2],\n",
       "[0, 0, 1, -1/2, -1],\n",
       "[0, 0, 0,    0,  0]])"
      ]
     },
     "execution_count": 26,
     "metadata": {},
     "output_type": "execute_result"
    }
   ],
   "source": [
    "AFRed, indices=Af.rref()\n",
    "\n",
    "AFRed"
   ]
  },
  {
   "cell_type": "code",
   "execution_count": 70,
   "id": "04f36115-640f-48bd-9f6d-299356a2c2a1",
   "metadata": {},
   "outputs": [
    {
     "data": {
      "text/latex": [
       "$\\displaystyle \\left[\\begin{matrix}1 & 1 & 1 & 0 & 0\\\\0 & 1 & 1 & 0 & 0\\\\0 & 0 & 1 & 0 & 0\\\\0 & 0 & 0 & 0 & 0\\\\0 & 0 & 0 & 0 & 0\\end{matrix}\\right]$"
      ],
      "text/plain": [
       "Matrix([\n",
       "[1, 1, 1, 0, 0],\n",
       "[0, 1, 1, 0, 0],\n",
       "[0, 0, 1, 0, 0],\n",
       "[0, 0, 0, 0, 0],\n",
       "[0, 0, 0, 0, 0]])"
      ]
     },
     "execution_count": 70,
     "metadata": {},
     "output_type": "execute_result"
    }
   ],
   "source": [
    "B2=Matrix([[1, 1, 1,  0, 0],\n",
    "            [0, 1, 1, 0, 0],\n",
    "            [0, 0, 1,  0, 0],\n",
    "            [0, 0, 0,  0, 0],\n",
    "            [0, 0, 0,  0, 0]\n",
    "            ])\n",
    "B2"
   ]
  },
  {
   "cell_type": "code",
   "execution_count": 76,
   "id": "9702de61-186e-4a84-94c6-52e366a77449",
   "metadata": {},
   "outputs": [
    {
     "name": "stdout",
     "output_type": "stream",
     "text": [
      "Matrix([[1, 2, 4, 0, 0], [1, 1, 0, 0, 0], [0, 1, 2, 0, 0], [3, 3, 4, 0, 0]])\n"
     ]
    },
    {
     "data": {
      "text/latex": [
       "$\\displaystyle \\left[\\begin{matrix}1 & 2 & 4 & 1\\\\1 & 1 & 0 & 0\\\\0 & 1 & 2 & 0\\\\3 & 3 & 4 & 0\\end{matrix}\\right]$"
      ],
      "text/plain": [
       "Matrix([\n",
       "[1, 2, 4, 1],\n",
       "[1, 1, 0, 0],\n",
       "[0, 1, 2, 0],\n",
       "[3, 3, 4, 0]])"
      ]
     },
     "execution_count": 76,
     "metadata": {},
     "output_type": "execute_result"
    }
   ],
   "source": [
    "Cnew=Af*B2\n",
    "print(Cnew)\n",
    "Cnew=Cnew[:, [0,1,2]].col_insert(3, Matrix([1,0,0,0]))\n",
    "Cnew\n"
   ]
  },
  {
   "cell_type": "code",
   "execution_count": 66,
   "id": "a910073a-248d-4b24-80a1-2120c9e51736",
   "metadata": {},
   "outputs": [
    {
     "data": {
      "text/latex": [
       "$\\displaystyle \\left[\\begin{matrix}1 & 0 & 0 & 0\\\\0 & 1 & 0 & 0\\\\0 & 0 & 1 & 0\\\\0 & 0 & 0 & 1\\end{matrix}\\right]$"
      ],
      "text/plain": [
       "Matrix([\n",
       "[1, 0, 0, 0],\n",
       "[0, 1, 0, 0],\n",
       "[0, 0, 1, 0],\n",
       "[0, 0, 0, 1]])"
      ]
     },
     "execution_count": 66,
     "metadata": {},
     "output_type": "execute_result"
    }
   ],
   "source": [
    "CNewRed, indices=Cnew.rref()\n",
    "CNewRed\n"
   ]
  },
  {
   "cell_type": "code",
   "execution_count": 67,
   "id": "4471d0b6-d9fc-493e-a29b-5c568ac63fe6",
   "metadata": {},
   "outputs": [
    {
     "data": {
      "text/latex": [
       "$\\displaystyle \\left[\\begin{matrix}1.0 & 0 & 0 & 0 & 0\\\\0 & 1.0 & 0 & 0 & 0\\\\0 & 0 & 1.0 & 0 & 0\\\\0 & 0 & 0 & 1.0 & 0\\\\0 & 0 & 0 & 0 & 1.0\\end{matrix}\\right]$"
      ],
      "text/plain": [
       "Matrix([\n",
       "[1.0,   0,   0,   0,   0],\n",
       "[  0, 1.0,   0,   0,   0],\n",
       "[  0,   0, 1.0,   0,   0],\n",
       "[  0,   0,   0, 1.0,   0],\n",
       "[  0,   0,   0,   0, 1.0]])"
      ]
     },
     "execution_count": 67,
     "metadata": {},
     "output_type": "execute_result"
    }
   ],
   "source": [
    "B=Matrix(np.eye(5))\n",
    "B\n"
   ]
  },
  {
   "cell_type": "code",
   "execution_count": 68,
   "id": "418de15c-680a-4e55-b4b5-5bb7a44ab82b",
   "metadata": {},
   "outputs": [
    {
     "data": {
      "text/latex": [
       "$\\displaystyle \\left[\\begin{matrix}0 & - \\frac{1}{2} & -1 & \\frac{1}{2}\\\\0 & \\frac{3}{2} & 1 & - \\frac{1}{2}\\\\0 & - \\frac{3}{4} & 0 & \\frac{1}{4}\\\\1 & \\frac{1}{2} & -1 & - \\frac{1}{2}\\end{matrix}\\right]$"
      ],
      "text/plain": [
       "Matrix([\n",
       "[0, -1/2, -1,  1/2],\n",
       "[0,  3/2,  1, -1/2],\n",
       "[0, -3/4,  0,  1/4],\n",
       "[1,  1/2, -1, -1/2]])"
      ]
     },
     "execution_count": 68,
     "metadata": {},
     "output_type": "execute_result"
    }
   ],
   "source": [
    "CNewInv=Cnew.inv()\n",
    "CNewInv\n"
   ]
  },
  {
   "cell_type": "code",
   "execution_count": 73,
   "id": "3a503c47-8b94-4245-b52f-b3c6349515f2",
   "metadata": {},
   "outputs": [
    {
     "data": {
      "text/latex": [
       "$\\displaystyle \\left[\\begin{matrix}1 & 0 & 0 & 0 & 0\\\\0 & 1 & 0 & 0 & 0\\\\0 & 0 & 1 & 0 & 0\\\\0 & 0 & 0 & 0 & 0\\end{matrix}\\right]$"
      ],
      "text/plain": [
       "Matrix([\n",
       "[1, 0, 0, 0, 0],\n",
       "[0, 1, 0, 0, 0],\n",
       "[0, 0, 1, 0, 0],\n",
       "[0, 0, 0, 0, 0]])"
      ]
     },
     "execution_count": 73,
     "metadata": {},
     "output_type": "execute_result"
    }
   ],
   "source": [
    "(CNewInv*Af)*B2\n"
   ]
  },
  {
   "cell_type": "code",
   "execution_count": null,
   "id": "15bad4f9-a08f-427e-8ce0-ea2e12ddabd7",
   "metadata": {},
   "outputs": [],
   "source": []
  },
  {
   "cell_type": "code",
   "execution_count": null,
   "id": "23267671-a539-4d8e-9a6e-9c64b36c71d2",
   "metadata": {},
   "outputs": [],
   "source": []
  },
  {
   "cell_type": "code",
   "execution_count": null,
   "id": "4fb2751a-314c-40e6-bf64-3df260102488",
   "metadata": {},
   "outputs": [],
   "source": []
  },
  {
   "cell_type": "code",
   "execution_count": null,
   "id": "7bcfc208-8ae8-4a48-baba-bdb2078732cf",
   "metadata": {},
   "outputs": [],
   "source": []
  },
  {
   "cell_type": "code",
   "execution_count": null,
   "id": "b49346dd-be44-4f91-a3d8-6a60a5fedfb9",
   "metadata": {},
   "outputs": [],
   "source": []
  },
  {
   "cell_type": "code",
   "execution_count": null,
   "id": "2a33e2b6-da0c-40c0-a7d1-5bba1aa25d79",
   "metadata": {},
   "outputs": [],
   "source": []
  }
 ],
 "metadata": {
  "kernelspec": {
   "display_name": "Python 3",
   "language": "python",
   "name": "python3"
  },
  "language_info": {
   "codemirror_mode": {
    "name": "ipython",
    "version": 3
   },
   "file_extension": ".py",
   "mimetype": "text/x-python",
   "name": "python",
   "nbconvert_exporter": "python",
   "pygments_lexer": "ipython3",
   "version": "3.6.9"
  }
 },
 "nbformat": 4,
 "nbformat_minor": 5
}
